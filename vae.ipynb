{
 "cells": [
  {
   "cell_type": "code",
   "execution_count": 1,
   "metadata": {
    "collapsed": false
   },
   "outputs": [],
   "source": [
    "import os, pickle, cPickle, sys, urllib, gzip, sys\n",
    "sys.setrecursionlimit(10000)"
   ]
  },
  {
   "cell_type": "code",
   "execution_count": 2,
   "metadata": {
    "collapsed": false
   },
   "outputs": [
    {
     "name": "stdout",
     "output_type": "stream",
     "text": [
      "Populating the interactive namespace from numpy and matplotlib\n"
     ]
    },
    {
     "name": "stderr",
     "output_type": "stream",
     "text": [
      "Using gpu device 0: Graphics Device (CNMeM is disabled)\n"
     ]
    }
   ],
   "source": [
    "import matplotlib.pyplot as plt\n",
    "%pylab inline\n",
    "import numpy as np\n",
    "from IPython.display import Image as IPImage\n",
    "from PIL import Image\n",
    "import theano.tensor as T\n",
    "import lasagne\n",
    "from theano import config"
   ]
  },
  {
   "cell_type": "code",
   "execution_count": 29,
   "metadata": {
    "collapsed": false
   },
   "outputs": [],
   "source": [
    "import lasagne\n",
    "import theano\n",
    "from lasagne.layers import get_output, InputLayer, DenseLayer, Upscale2DLayer, ReshapeLayer, MergeLayer\n",
    "from lasagne.nonlinearities import rectify, leaky_rectify, tanh,sigmoid\n",
    "from lasagne.updates import nesterov_momentum\n",
    "from lasagne.objectives import categorical_crossentropy\n",
    "from nolearn.lasagne import NeuralNet, BatchIterator, PrintLayerInfo"
   ]
  },
  {
   "cell_type": "code",
   "execution_count": 30,
   "metadata": {
    "collapsed": false
   },
   "outputs": [
    {
     "name": "stdout",
     "output_type": "stream",
     "text": [
      "Using cuda_convnet (faster)\n"
     ]
    }
   ],
   "source": [
    "from lasagne.layers import Conv2DLayer as Conv2DLayerSlow\n",
    "from lasagne.layers import MaxPool2DLayer as MaxPool2DLayerSlow\n",
    "try:\n",
    "    from lasagne.layers.cuda_convnet import Conv2DCCLayer as Conv2DLayerFast\n",
    "    from lasagne.layers.cuda_convnet import MaxPool2DCCLayer as MaxPool2DLayerFast\n",
    "    print 'Using cuda_convnet (faster)'\n",
    "except ImportError, e:\n",
    "    print e\n",
    "    from lasagne.layers import Conv2DLayer as Conv2DLayerFast\n",
    "    from lasagne.layers import MaxPool2DLayer as MaxPool2DLayerFast\n",
    "    print 'Using lasagne.layers (slower)'"
   ]
  },
  {
   "cell_type": "code",
   "execution_count": 31,
   "metadata": {
    "collapsed": false
   },
   "outputs": [],
   "source": [
    "fname = 'mnist/mnist.pkl.gz'\n",
    "if not os.path.isfile(fname):\n",
    "    testfile = urllib.URLopener()\n",
    "    testfile.retrieve(\"http://deeplearning.net/data/mnist/mnist.pkl.gz\", fname)\n",
    "f = gzip.open(fname, 'rb')\n",
    "train_set, valid_set, test_set = cPickle.load(f)\n",
    "f.close()\n",
    "X, y = train_set\n",
    "X = np.rint(X * 256).astype(np.int).reshape((-1, 1, 28,28)) # convert to (0,255) int range (we'll do our own scaling)\n",
    "mu, sigma = np.mean(X.flatten()), np.std(X.flatten())"
   ]
  },
  {
   "cell_type": "code",
   "execution_count": 32,
   "metadata": {
    "collapsed": false
   },
   "outputs": [],
   "source": [
    "eps = 1e-5\n",
    "\n",
    "X_train = X.astype(np.float64) / 255\n",
    "X_train = (1 - 2 * eps) * X_train + eps\n",
    "#X_train =(X_train - mu) / sigma\n",
    "X_train = X_train.astype(np.float32)\n",
    "\n",
    "# we need our target to be 1 dimensional\n",
    "X_out = X_train.reshape((X_train.shape[0], -1))"
   ]
  },
  {
   "cell_type": "code",
   "execution_count": 33,
   "metadata": {
    "collapsed": false
   },
   "outputs": [
    {
     "data": {
      "text/plain": [
       "(9.9999997e-06, 0.99998999)"
      ]
     },
     "execution_count": 33,
     "metadata": {},
     "output_type": "execute_result"
    }
   ],
   "source": [
    "X_train.min(), X_train.max()"
   ]
  },
  {
   "cell_type": "code",
   "execution_count": 34,
   "metadata": {
    "collapsed": false
   },
   "outputs": [],
   "source": [
    "from lasagne.layers import Layer\n",
    "from lasagne.random import get_rng\n",
    "\n",
    "from theano.sandbox.rng_mrg import MRG_RandomStreams as RandomStreams\n",
    "\n",
    "class Q_Layer(MergeLayer):\n",
    "    \n",
    "    \n",
    "    def __init__(self, incomings, **kwargs):\n",
    "        super(Q_Layer, self).__init__(incomings, **kwargs)\n",
    "        self._srng = RandomStreams(get_rng().randint(1, 2147462579))\n",
    "        \n",
    "    def get_output_shape_for(self, input_shapes):\n",
    "        assert input_shapes[0] == input_shapes[1]\n",
    "        return input_shapes[0]\n",
    "\n",
    "    def get_output_for(self, inputs, deterministic=False, **kwargs):\n",
    "        mu, log_sigma = inputs\n",
    "        \n",
    "        out_shape = mu.shape\n",
    "        \n",
    "        return self._srng.normal(out_shape) * T.exp(log_sigma) + mu"
   ]
  },
  {
   "cell_type": "code",
   "execution_count": null,
   "metadata": {
    "collapsed": true
   },
   "outputs": [],
   "source": []
  },
  {
   "cell_type": "code",
   "execution_count": 388,
   "metadata": {
    "collapsed": false
   },
   "outputs": [],
   "source": [
    "input_var = T.tensor4('inputs')\n",
    "target_var = T.matrix('targets')\n",
    "\n",
    "encode_hid = 256\n",
    "z_hid = 3\n",
    "decode_hid = 256\n",
    "\n",
    "input_layer = InputLayer(shape=(None, X.shape[1], X.shape[2], X.shape[3]), input_var=input_var)\n",
    "reshape_layer = ReshapeLayer(input_layer, shape=(([0], -1)))\n",
    "encode_h_layer = DenseLayer(reshape_layer, num_units=encode_hid, nonlinearity=None)\n",
    "mu_layer = DenseLayer(encode_h_layer, num_units=z_hid, nonlinearity=None)\n",
    "log_sigma_layer = DenseLayer(encode_h_layer, num_units=z_hid, nonlinearity=None)\n",
    "q_layer = Q_Layer([mu_layer, log_sigma_layer])\n",
    "decode_h_layer = DenseLayer(q_layer, num_units=encode_hid, nonlinearity=tanh)\n",
    "network = DenseLayer(decode_h_layer, num_units= X.shape[2] * X.shape[3], nonlinearity=sigmoid)"
   ]
  },
  {
   "cell_type": "code",
   "execution_count": 389,
   "metadata": {
    "collapsed": false
   },
   "outputs": [],
   "source": [
    "prediction = lasagne.layers.get_output(network)"
   ]
  },
  {
   "cell_type": "code",
   "execution_count": 390,
   "metadata": {
    "collapsed": false
   },
   "outputs": [],
   "source": [
    "def kl_error(mu, log_sigma):  \n",
    "    return 0.5 * T.sum(1 + 2 * log_sigma - T.exp(2 * log_sigma) - T.sqr(mu), axis = 1)\n",
    "\n",
    "x_mu = get_output(mu_layer)\n",
    "x_logs = get_output(log_sigma_layer)\n",
    "\n",
    "kl_loss = kl_error(x_mu, x_logs).mean()\n",
    "\n",
    "rec_loss_raw = lasagne.objectives.binary_crossentropy(prediction, target_var)\n",
    "kl_loss_raw = kl_error(x_mu, x_logs)\n",
    "#rec_loss = lasagne.objectives.binary_crossentropy(prediction, target_var).sum(axis = 1).mean()\n",
    "#rec_loss_raw = lasagne.objectives.binary_crossentropy(prediction, target_var)\n",
    "rec_loss = lasagne.objectives.squared_error(prediction, target_var).sum(axis = 1).mean()\n",
    "rec_loss_raw = lasagne.objectives.squared_error(prediction, target_var)\n",
    "\n",
    "\n",
    "loss = rec_loss  - kl_loss"
   ]
  },
  {
   "cell_type": "code",
   "execution_count": null,
   "metadata": {
    "collapsed": false
   },
   "outputs": [],
   "source": []
  },
  {
   "cell_type": "code",
   "execution_count": 391,
   "metadata": {
    "collapsed": false
   },
   "outputs": [],
   "source": [
    "\n",
    "\n",
    "params = lasagne.layers.get_all_params(network, trainable=True)\n",
    "#updates = lasagne.updates.nesterov_momentum(loss, params, learning_rate=0.001, momentum=0.9)\n",
    "updates = lasagne.updates.adam(loss, params)\n",
    "\n",
    "#test_prediction = lasagne.layers.get_output(network, deterministic=True)\n",
    "#test_loss = lasagne.objectives.squared_error(test_prediction, target_var)\n",
    "\n",
    "# Compile a function performing a training step on a mini-batch (by giving\n",
    "# the updates dictionary) and returning the corresponding training loss:\n",
    "init_eval = theano.function([input_var, target_var], [loss, rec_loss, kl_loss, \n",
    "                                                    kl_loss_raw, rec_loss_raw])\n",
    "train_fn = theano.function([input_var, target_var], [loss, rec_loss, kl_loss, \n",
    "                                                     kl_loss_raw, rec_loss_raw], updates=updates)\n",
    "\n",
    "# Compile a second function computing the validation loss and accuracy:\n",
    "#val_fn = theano.function([input_var, target_var], test_loss)"
   ]
  },
  {
   "cell_type": "code",
   "execution_count": 392,
   "metadata": {
    "collapsed": false
   },
   "outputs": [],
   "source": [
    "def iterate_minibatches(inputs, targets, batchsize, shuffle=False):\n",
    "    assert len(inputs) == len(targets)\n",
    "    if shuffle:\n",
    "        indices = np.arange(len(inputs))\n",
    "        np.random.shuffle(indices)\n",
    "    for start_idx in range(0, len(inputs) - batchsize + 1, batchsize):\n",
    "        if shuffle:\n",
    "            excerpt = indices[start_idx:start_idx + batchsize]\n",
    "        else:\n",
    "            excerpt = slice(start_idx, start_idx + batchsize)\n",
    "        yield inputs[excerpt], targets[excerpt]"
   ]
  },
  {
   "cell_type": "code",
   "execution_count": 393,
   "metadata": {
    "collapsed": false,
    "scrolled": false
   },
   "outputs": [
    {
     "name": "stdout",
     "output_type": "stream",
     "text": [
      "INITIAL EVAL took 49.000s\n",
      "  rec loss:\t\t91.085073\n",
      "  kl loss:\t\t0.802115\n",
      "  training loss:\t91.887188\n",
      "Starting training...\n",
      "Epoch 0 of 50 took 1.595s\n",
      "  rec loss:\t\t49.229634\n",
      "  kl loss:\t\t4.949394\n",
      "  training loss:\t54.179028\n",
      "Epoch 10 of 50 took 1.570s\n",
      "  rec loss:\t\t35.159319\n",
      "  kl loss:\t\t4.646535\n",
      "  training loss:\t39.805854\n",
      "Epoch 20 of 50 took 1.571s\n",
      "  rec loss:\t\t34.151685\n",
      "  kl loss:\t\t4.900105\n",
      "  training loss:\t39.051790\n",
      "Epoch 30 of 50 took 1.571s\n",
      "  rec loss:\t\t33.767610\n",
      "  kl loss:\t\t5.007653\n",
      "  training loss:\t38.775264\n",
      "Epoch 40 of 50 took 1.571s\n",
      "  rec loss:\t\t33.563536\n",
      "  kl loss:\t\t5.057870\n",
      "  training loss:\t38.621407\n",
      "Epoch 49 of 50 took 1.571s\n",
      "  rec loss:\t\t33.438206\n",
      "  kl loss:\t\t5.113234\n",
      "  training loss:\t38.551440\n"
     ]
    }
   ],
   "source": [
    "num_epochs = 50\n",
    "import time\n",
    "import sys\n",
    "\n",
    "mse_err = 0\n",
    "kl_err = 0\n",
    "loss_err = 0\n",
    "for batch in iterate_minibatches(X_train, X_out, 100, shuffle=True):\n",
    "    inputs, targets = batch\n",
    "    new_loss, new_mse, new_kl, kl_loss_raw, rec_loss_raw = init_eval(inputs, targets)\n",
    "    mse_err += new_mse\n",
    "    kl_err += new_kl\n",
    "    loss_err += new_loss\n",
    "    train_batches += 1\n",
    "print(\"INITIAL EVAL took {:.3f}s\".format(\n",
    "            epoch, num_epochs, time.time() - start_time))\n",
    "print(\"  rec loss:\\t\\t{:.6f}\".format(mse_err / train_batches))\n",
    "print(\"  kl loss:\\t\\t{:.6f}\".format(- kl_err / train_batches))\n",
    "print(\"  training loss:\\t{:.6f}\".format(loss_err / train_batches))\n",
    "        \n",
    "# Finally, launch the training loop.\n",
    "print \"Starting training...\"\n",
    "# We iterate over epochs:\n",
    "for epoch in range(num_epochs):\n",
    "    sys.stdout.flush()\n",
    "    # In each epoch, we do a full pass over the training data:\n",
    "    mse_err = 0\n",
    "    kl_err = 0\n",
    "    loss_err = 0\n",
    "    train_batches = 0\n",
    "    start_time = time.time()\n",
    "    for batch in iterate_minibatches(X_train, X_out, 100, shuffle=True):\n",
    "        inputs, targets = batch\n",
    "        new_loss, new_mse, new_kl, kl_loss_raw, rec_loss_raw = train_fn(inputs, targets)\n",
    "        mse_err += new_mse\n",
    "        kl_err += new_kl\n",
    "        loss_err += new_loss\n",
    "        train_batches += 1\n",
    "    if epoch % 10 == 0 or epoch == num_epochs - 1:\n",
    "        # Then we print the results for this epoch:\n",
    "        print(\"Epoch {} of {} took {:.3f}s\".format(\n",
    "            epoch, num_epochs, time.time() - start_time))\n",
    "        print(\"  rec loss:\\t\\t{:.6f}\".format(mse_err / train_batches))\n",
    "        print(\"  kl loss:\\t\\t{:.6f}\".format(- kl_err / train_batches))\n",
    "        print(\"  training loss:\\t{:.6f}\".format(loss_err / train_batches))\n",
    "        #print kl_loss_raw.shape\n",
    "        #print rec_loss_raw.shape"
   ]
  },
  {
   "cell_type": "code",
   "execution_count": 394,
   "metadata": {
    "collapsed": false
   },
   "outputs": [
    {
     "name": "stdout",
     "output_type": "stream",
     "text": [
      "(1000, 28, 28) (50000, 1, 28, 28)\n"
     ]
    }
   ],
   "source": [
    "output = lasagne.layers.get_output(network)\n",
    "ae_predict = theano.function([input_var], output)\n",
    "X_train_pred = ae_predict(X_train[:1000]).reshape(-1, 28, 28) * 255\n",
    "X_pred = np.rint(X_train_pred).astype(int)\n",
    "X_pred = np.clip(X_pred, a_min = 0, a_max = 255)\n",
    "X_pred = X_pred.astype('uint8')\n",
    "print X_pred.shape , X.shape"
   ]
  },
  {
   "cell_type": "code",
   "execution_count": 416,
   "metadata": {
    "collapsed": false
   },
   "outputs": [
    {
     "name": "stdout",
     "output_type": "stream",
     "text": [
      "299\n"
     ]
    },
    {
     "data": {
      "image/png": "[encoded data removed]",
      "text/plain": [
       "<IPython.core.display.Image object>"
      ]
     },
     "execution_count": 416,
     "metadata": {},
     "output_type": "execute_result"
    }
   ],
   "source": [
    "###  show random inputs / outputs side by side\n",
    "\n",
    "def get_picture_array(X, rescale=4):\n",
    "    array = X.reshape(28,28)\n",
    "    array = np.clip(array, a_min = 0, a_max = 255)\n",
    "    return  array.repeat(rescale, axis = 0).repeat(rescale, axis = 1).astype(np.uint8())\n",
    "\n",
    "def compare_images(index):\n",
    "    print index\n",
    "    original_image = Image.fromarray(get_picture_array(X[index]))\n",
    "    new_size = (original_image.size[0] * 2, original_image.size[1])\n",
    "    new_im = Image.new('L', new_size)\n",
    "    new_im.paste(original_image, (0,0))\n",
    "    rec_image = Image.fromarray(get_picture_array(X_pred[index]))\n",
    "    new_im.paste(rec_image, (original_image.size[0],0))\n",
    "    new_im.save('data/test.png', format=\"PNG\")\n",
    "    return IPImage('data/test.png')\n",
    "\n",
    "#compare_images(2)\n",
    "compare_images(np.random.randint(1000))"
   ]
  },
  {
   "cell_type": "code",
   "execution_count": 417,
   "metadata": {
    "collapsed": false
   },
   "outputs": [
    {
     "name": "stdout",
     "output_type": "stream",
     "text": [
      "(10000, 3)\n"
     ]
    }
   ],
   "source": [
    "encoded = lasagne.layers.get_output(q_layer)\n",
    "ae_encode = theano.function([input_var], encoded)\n",
    "X_encoded = ae_encode(X_train[:10000])\n",
    "\n",
    "print X_encoded.shape"
   ]
  },
  {
   "cell_type": "code",
   "execution_count": 423,
   "metadata": {
    "collapsed": false
   },
   "outputs": [
    {
     "data": {
      "image/png": "[encoded data removed]",
      "text/plain": [
       "<matplotlib.figure.Figure at 0x7ffaafcaa790>"
      ]
     },
     "metadata": {},
     "output_type": "display_data"
    }
   ],
   "source": [
    "plt.figure(figsize=(6,6))\n",
    "#plt.hist([x[0] for x in X_encoded], bins = np.linspace(-4,4, 100))\n",
    "\n",
    "plt.scatter(X_encoded[:,2],X_encoded[:,0])\n",
    "plt.show()"
   ]
  },
  {
   "cell_type": "code",
   "execution_count": 424,
   "metadata": {
    "collapsed": true
   },
   "outputs": [],
   "source": [
    "zero_var = T.matrix('zero_inputs')\n",
    "\n",
    "gen = get_output(network, {mu_layer:zero_var, log_sigma_layer:zero_var})\n",
    "gen_q = get_output(q_layer, {mu_layer:zero_var, log_sigma_layer:zero_var})\n",
    "\n",
    "zero_input = np.zeros((1000,z_hid)).astype('float32')\n",
    "\n",
    "generate_fn = theano.function([zero_var], [gen, gen_q])\n",
    "\n",
    "generated, q_gen = generate_fn(zero_input)\n",
    "generated = generated.reshape(-1, 28, 28) * 255\n",
    "X_gen = np.rint(generated).astype(int)\n",
    "X_gen = np.clip(X_gen, a_min = 0, a_max = 255)\n",
    "X_gen =X_gen.astype('uint8')\n",
    "print X_gen.shape\n"
   ]
  },
  {
   "cell_type": "code",
   "execution_count": 459,
   "metadata": {
    "collapsed": false
   },
   "outputs": [
    {
     "data": {
      "image/png": "[encoded data removed]",
      "text/plain": [
       "<IPython.core.display.Image object>"
      ]
     },
     "execution_count": 459,
     "metadata": {},
     "output_type": "execute_result"
    }
   ],
   "source": [
    "index = np.random.randint(1000)\n",
    "gen_image = Image.fromarray(get_picture_array(X_gen[index]))\n",
    "gen_image.save('data/test.png', format=\"PNG\")\n",
    "IPImage('data/test.png')"
   ]
  },
  {
   "cell_type": "code",
   "execution_count": null,
   "metadata": {
    "collapsed": true
   },
   "outputs": [],
   "source": []
  },
  {
   "cell_type": "code",
   "execution_count": null,
   "metadata": {
    "collapsed": true
   },
   "outputs": [],
   "source": []
  },
  {
   "cell_type": "code",
   "execution_count": null,
   "metadata": {
    "collapsed": true
   },
   "outputs": [],
   "source": []
  },
  {
   "cell_type": "code",
   "execution_count": null,
   "metadata": {
    "collapsed": true
   },
   "outputs": [],
   "source": []
  }
 ],
 "metadata": {
  "kernelspec": {
   "display_name": "Python 2",
   "language": "python",
   "name": "python2"
  },
  "language_info": {
   "codemirror_mode": {
    "name": "ipython",
    "version": 2
   },
   "file_extension": ".py",
   "mimetype": "text/x-python",
   "name": "python",
   "nbconvert_exporter": "python",
   "pygments_lexer": "ipython2",
   "version": "2.7.6"
  }
 },
 "nbformat": 4,
 "nbformat_minor": 0
}
